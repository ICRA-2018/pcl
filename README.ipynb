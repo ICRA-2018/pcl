{
 "cells": [
  {
   "cell_type": "markdown",
   "metadata": {},
   "source": [
    "# Point Cloud Library\n",
    "\n",
    "<img src=\"http://ns50.pointclouds.org/assets/images/contents/logos/pcl/pcl_horz_large_pos.png\" align=\"center\" height=\"100\">\n",
    "\n",
    "Continuous integration\n",
    "----------------------\n",
    "[![Release][release-image]][releases]\n",
    "[![License][license-image]][license]\n",
    "\n",
    "[release-image]: https://img.shields.io/badge/release-1.8.1-green.svg?style=flat\n",
    "[releases]: https://github.com/PointCloudLibrary/pcl/releases\n",
    "\n",
    "[license-image]: https://img.shields.io/badge/license-BSD-green.svg?style=flat\n",
    "[license]: https://github.com/PointCloudLibrary/pcl/blob/master/LICENSE.txt\n",
    "\n",
    "[![Build Status](https://travis-ci.org/PointCloudLibrary/pcl.svg?branch=master)](https://travis-ci.org/PointCloudLibrary/pcl)\n",
    "\n",
    "Description\n",
    "-----------\n",
    "The Point Cloud Library (PCL) is a standalone, large scale, open project for 2D/3D image and point cloud processing.\n",
    "\n",
    "PCL is released under the terms of the BSD license, and thus free for commercial and research use. We are financially supported by a consortium of commercial companies, with our own non-profit organization, Open Perception. We would also like to thank individual donors and contributors that have been helping the project.\n",
    "\n",
    "Compiling\n",
    "---------\n",
    "Please refer to the platform specific tutorials:\n",
    " - [Linux](http://www.pointclouds.org/documentation/tutorials/compiling_pcl_posix.php)\n",
    " - [Mac OS X](http://www.pointclouds.org/documentation/tutorials/compiling_pcl_macosx.php)\n",
    " - [Microsoft Windows](http://www.pointclouds.org/documentation/tutorials/compiling_pcl_windows.php)\n",
    "\n",
    "Documentation\n",
    "-------------\n",
    "- [Tutorials](http://www.pointclouds.org/documentation/tutorials/)\n",
    "- [PCL trunk documentation](http://docs.pointclouds.org/trunk/) (updated daily)\n",
    "\n",
    "Contributing\n",
    "------------\n",
    "Please read [CONTRIBUTING.md](https://github.com/PointCloudLibrary/pcl/blob/master/CONTRIBUTING.md).\n",
    "\n",
    "Issues\n",
    "------\n",
    "For general questions on how to use the PCL, please use the [pcl-users](http://www.pcl-users.org/) mailing list (do not forget to subscribe before posting).\n",
    "To report issues, please read [CONTRIBUTING.md#bug-reports](https://github.com/PointCloudLibrary/pcl/blob/master/CONTRIBUTING.md#bug-reports)."
   ]
  }
 ],

 "metadata": {
  "kernelspec": {
   "display_name": "Bash",
   "language": "bash",
   "name": "bash"
  },
  "language_info": {
   "codemirror_mode": "shell",
   "file_extension": ".sh",
   "mimetype": "text/x-sh",
   "name": "bash"
  }
 },
 "nbformat": 4,
 "nbformat_minor": 2
}
